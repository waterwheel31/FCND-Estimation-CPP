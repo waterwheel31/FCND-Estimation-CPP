{
 "cells": [
  {
   "cell_type": "markdown",
   "metadata": {},
   "source": [
    "## Sensor Noise Analysis"
   ]
  },
  {
   "cell_type": "code",
   "execution_count": 3,
   "metadata": {},
   "outputs": [],
   "source": [
    "import pandas as pd"
   ]
  },
  {
   "cell_type": "code",
   "execution_count": 18,
   "metadata": {},
   "outputs": [
    {
     "name": "stdout",
     "output_type": "stream",
     "text": [
      "        time   Quad.GPS.X\n",
      "0   0.105000    -0.372314\n",
      "1   0.205000     0.640041\n",
      "2   0.305000    -0.736647\n",
      "3   0.404998     0.869251\n",
      "4   0.504997     0.180038\n",
      "..       ...          ...\n",
      "92  9.305130    -0.568402\n",
      "93  9.405170    -0.266066\n",
      "94  9.505211    -0.171653\n",
      "95  9.605251     0.700732\n",
      "96  9.705292     0.984456\n",
      "\n",
      "[97 rows x 2 columns]\n"
     ]
    }
   ],
   "source": [
    "gps_data = pd.read_csv('./config/log/Graph1.txt') \n",
    "print(gps_data)"
   ]
  },
  {
   "cell_type": "code",
   "execution_count": 14,
   "metadata": {},
   "outputs": [
    {
     "name": "stdout",
     "output_type": "stream",
     "text": [
      "         time   Quad.IMU.AX\n",
      "0    0.005000      0.552092\n",
      "1    0.010000      0.073917\n",
      "2    0.015000      0.523423\n",
      "3    0.020000     -0.426280\n",
      "4    0.025000      0.916858\n",
      "..        ...           ...\n",
      "764  3.824905      0.564097\n",
      "765  3.829905     -0.262444\n",
      "766  3.834904     -0.558031\n",
      "767  3.839904     -0.536636\n",
      "768  3.844904      0.813904\n",
      "\n",
      "[769 rows x 2 columns]\n"
     ]
    }
   ],
   "source": [
    "imu_data = pd.read_csv('./config/log/Graph2.txt') \n",
    "print(imu_data)"
   ]
  },
  {
   "cell_type": "code",
   "execution_count": 19,
   "metadata": {},
   "outputs": [
    {
     "name": "stdout",
     "output_type": "stream",
     "text": [
      "time           2.814488\n",
      " Quad.GPS.X    0.718116\n",
      "dtype: float64\n"
     ]
    }
   ],
   "source": [
    "gps_std = gps_data.std()\n",
    "print(gps_std)"
   ]
  },
  {
   "cell_type": "code",
   "execution_count": 15,
   "metadata": {},
   "outputs": [
    {
     "name": "stdout",
     "output_type": "stream",
     "text": [
      "time            1.110656\n",
      " Quad.IMU.AX    0.495386\n",
      "dtype: float64\n"
     ]
    }
   ],
   "source": [
    "imu_std = imu_data.std()\n",
    "print(imu_std)"
   ]
  },
  {
   "cell_type": "code",
   "execution_count": null,
   "metadata": {},
   "outputs": [],
   "source": []
  }
 ],
 "metadata": {
  "kernelspec": {
   "display_name": "Python 3",
   "language": "python",
   "name": "python3"
  },
  "language_info": {
   "codemirror_mode": {
    "name": "ipython",
    "version": 3
   },
   "file_extension": ".py",
   "mimetype": "text/x-python",
   "name": "python",
   "nbconvert_exporter": "python",
   "pygments_lexer": "ipython3",
   "version": "3.7.4"
  }
 },
 "nbformat": 4,
 "nbformat_minor": 4
}
