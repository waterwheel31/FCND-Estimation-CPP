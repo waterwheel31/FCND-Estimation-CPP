{
 "cells": [
  {
   "cell_type": "markdown",
   "metadata": {},
   "source": [
    "## Sensor Noise Analysis"
   ]
  },
  {
   "cell_type": "code",
   "execution_count": 3,
   "metadata": {},
   "outputs": [],
   "source": [
    "import pandas as pd"
   ]
  },
  {
   "cell_type": "code",
   "execution_count": 11,
   "metadata": {},
   "outputs": [
    {
     "name": "stdout",
     "output_type": "stream",
     "text": [
      "        time   Quad.GPS.X\n",
      "0   0.105000    -0.372314\n",
      "1   0.205000     0.640041\n",
      "2   0.305000    -0.736647\n",
      "3   0.404998     0.869251\n",
      "4   0.504997     0.180038\n",
      "..       ...          ...\n",
      "79  8.004604     0.786856\n",
      "80  8.104645     0.709726\n",
      "81  8.204685    -1.638876\n",
      "82  8.304726     0.263999\n",
      "83  8.404766    -0.190196\n",
      "\n",
      "[84 rows x 2 columns]\n"
     ]
    }
   ],
   "source": [
    "gps_data = pd.read_csv('./config/log/Graph1.txt') \n",
    "print(gps_data)"
   ]
  },
  {
   "cell_type": "code",
   "execution_count": 6,
   "metadata": {},
   "outputs": [
    {
     "name": "stdout",
     "output_type": "stream",
     "text": [
      "     time   Quad.IMU.AX\n",
      "0   0.005      0.552092\n",
      "1   0.010      0.073917\n",
      "2   0.015      0.523423\n",
      "3   0.020     -0.426280\n",
      "4   0.025      0.916858\n",
      "5   0.030     -0.295513\n",
      "6   0.035      0.183743\n",
      "7   0.040     -0.568066\n",
      "8   0.045      0.311496\n",
      "9   0.050     -1.083837\n",
      "10  0.055      0.002920\n",
      "11  0.060      0.413410\n",
      "12  0.065     -0.796306\n",
      "13  0.070      0.980591\n",
      "14  0.075      0.606520\n",
      "15  0.080      0.188093\n",
      "16  0.085      0.510143\n",
      "17  0.090      0.784211\n",
      "18  0.095     -0.016365\n",
      "19  0.100      0.858991\n",
      "20  0.105      1.079343\n",
      "21  0.110      0.341347\n",
      "22  0.115      0.077916\n",
      "23  0.120     -0.122222\n",
      "24  0.125     -0.081017\n",
      "25  0.130     -0.990465\n",
      "26  0.135     -0.054498\n",
      "27  0.140      0.075783\n",
      "28  0.145      0.414971\n",
      "29  0.150      0.246651\n",
      "30  0.155     -0.624082\n",
      "31  0.160      0.419853\n",
      "32  0.165     -0.103086\n",
      "33  0.170      0.282461\n",
      "34  0.175      0.845811\n",
      "35  0.180      0.022504\n",
      "36  0.185     -0.688981\n",
      "37  0.190     -0.720195\n",
      "38  0.195     -0.062203\n",
      "39  0.200      0.658070\n",
      "40  0.205     -0.698099\n",
      "41  0.210     -0.531947\n",
      "42  0.215      0.124392\n",
      "43  0.220     -0.775317\n",
      "44  0.225     -0.216454\n",
      "45  0.230      0.049957\n",
      "46  0.235     -0.328583\n",
      "47  0.240     -0.279187\n",
      "48  0.245     -0.562548\n",
      "49  0.250     -0.105482\n",
      "50  0.255     -0.708998\n",
      "51  0.260      0.175895\n",
      "52  0.265     -0.282679\n"
     ]
    }
   ],
   "source": [
    "imu_data = pd.read_csv('./config/log/Graph2.txt') \n",
    "print(imu_data)"
   ]
  },
  {
   "cell_type": "code",
   "execution_count": 12,
   "metadata": {},
   "outputs": [
    {
     "name": "stdout",
     "output_type": "stream",
     "text": [
      "time           2.439130\n",
      " Quad.GPS.X    0.722758\n",
      "dtype: float64\n"
     ]
    }
   ],
   "source": [
    "gps_std = gps_data.std()\n",
    "print(gps_std)"
   ]
  },
  {
   "cell_type": "code",
   "execution_count": 8,
   "metadata": {},
   "outputs": [
    {
     "name": "stdout",
     "output_type": "stream",
     "text": [
      "time            0.077217\n",
      " Quad.IMU.AX    0.537015\n",
      "dtype: float64\n"
     ]
    }
   ],
   "source": [
    "imu_std = imu_data.std()\n",
    "print(imu_std)"
   ]
  },
  {
   "cell_type": "code",
   "execution_count": null,
   "metadata": {},
   "outputs": [],
   "source": []
  }
 ],
 "metadata": {
  "kernelspec": {
   "display_name": "Python 3",
   "language": "python",
   "name": "python3"
  },
  "language_info": {
   "codemirror_mode": {
    "name": "ipython",
    "version": 3
   },
   "file_extension": ".py",
   "mimetype": "text/x-python",
   "name": "python",
   "nbconvert_exporter": "python",
   "pygments_lexer": "ipython3",
   "version": "3.7.4"
  }
 },
 "nbformat": 4,
 "nbformat_minor": 4
}
